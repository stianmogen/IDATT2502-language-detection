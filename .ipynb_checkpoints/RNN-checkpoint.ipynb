{
 "cells": [
  {
   "cell_type": "code",
   "execution_count": 11,
   "id": "a3bb70f1-c862-4dc3-99bb-07486721b01f",
   "metadata": {},
   "outputs": [
    {
     "name": "stdout",
     "output_type": "stream",
     "text": [
      "['x_train.txt', 'labels.csv', 'y_train.txt', 'x_test.txt', 'y_test.txt', 'README.md', '.ipynb_checkpoints', 'urls.txt']\n",
      "cpu\n",
      "(117500, 1)\n",
      "(117500, 1)\n",
      "Example:\n",
      "LANG = <pandas.core.indexing._iLocIndexer object at 0x7fd9f282ba40>\n",
      "TEXT = <pandas.core.indexing._iLocIndexer object at 0x7fd9f0a294a0>\n"
     ]
    }
   ],
   "source": [
    "# This Python 3 environment comes with many helpful analytics libraries installed\n",
    "import random\n",
    "import numpy as np # linear algebra\n",
    "import pandas as pd # data processing, CSV file I/O (e.g. pd.read_csv)\n",
    "import torch # Deep learning framework\n",
    "import torch.nn.functional as F\n",
    "import time\n",
    "\n",
    "# Input data files are available in the \"../input/\" directory.\n",
    "import os\n",
    "INPUTDIR = 'input'\n",
    "print(os.listdir(f'{INPUTDIR}'))\n",
    "\n",
    "#Init random seed to get reproducible results\n",
    "seed = 1111\n",
    "random.seed(seed)\n",
    "np.random.RandomState(seed)\n",
    "torch.manual_seed(seed)\n",
    "\n",
    "torch.cuda.empty_cache()\n",
    "\n",
    "device = torch.device(\"cuda:0\" if torch.cuda.is_available() else \"cpu\")\n",
    "print(device)\n",
    "\n",
    "# Constants\n",
    "\n",
    "NUM_CLASSES = 235\n",
    "INPUT_DIR = \"input/\"\n",
    "LEARNING_RATE = 0.001\n",
    "EPOCHS = 20\n",
    "BATCH_SIZE = 256\n",
    "\n",
    "with open(os.path.join(INPUT_DIR, \"x_train.txt\"), encoding=\"utf8\") as f:\n",
    "    data = f.read()\n",
    "\n",
    "x_train = data.split('\\n')\n",
    "\n",
    "with open(os.path.join(INPUT_DIR, \"x_test.txt\"), encoding=\"utf8\") as f:\n",
    "    data = f.read()\n",
    "\n",
    "x_test = data.split('\\n')\n",
    "\n",
    "with open(os.path.join(INPUT_DIR, \"y_train.txt\"), encoding=\"utf8\") as f:\n",
    "    data = f.read()\n",
    "\n",
    "y_train = data.split('\\n')\n",
    "\n",
    "with open(os.path.join(INPUT_DIR, \"y_test.txt\"), encoding=\"utf8\") as f:\n",
    "    data = f.read()\n",
    "\n",
    "y_test = data.split('\\n')\n",
    "\n",
    "x_train.pop(-1)\n",
    "x_test.pop(-1)\n",
    "y_train.pop(-1)\n",
    "y_test.pop(-1)\n",
    "\n",
    "\n",
    "x_train = pd.DataFrame(x_train, columns=['sentence'])\n",
    "y_train = pd.DataFrame(y_train, columns=['language'])\n",
    "\n",
    "x_test = pd.DataFrame(x_test, columns=['sentence'])\n",
    "y_test = pd.DataFrame(y_test, columns=['language'])\n",
    "\n",
    "print(x_train.shape)\n",
    "print(x_test.shape)\n",
    "\n",
    "\n",
    "print('Example:')\n",
    "print('LANG =', y_train['language'].iloc(0))\n",
    "print('TEXT =', x_train['sentence'].iloc(0))"
   ]
  },
  {
   "cell_type": "code",
   "execution_count": null,
   "id": "f92fcf23-4791-44c8-8628-ae56c81e62c0",
   "metadata": {},
   "outputs": [],
   "source": []
  }
 ],
 "metadata": {
  "kernelspec": {
   "display_name": "Python 3",
   "language": "python",
   "name": "python3"
  },
  "language_info": {
   "codemirror_mode": {
    "name": "ipython",
    "version": 3
   },
   "file_extension": ".py",
   "mimetype": "text/x-python",
   "name": "python",
   "nbconvert_exporter": "python",
   "pygments_lexer": "ipython3",
   "version": "3.8.8"
  }
 },
 "nbformat": 4,
 "nbformat_minor": 5
}
